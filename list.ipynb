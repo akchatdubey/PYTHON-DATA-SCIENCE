{
 "cells": [
  {
   "cell_type": "code",
   "execution_count": 1,
   "metadata": {},
   "outputs": [],
   "source": [
    "list1 = [\"Nikhlesh\", \"Aman\", \"rahul\", \"anuj\", \"anushtha\"]\n",
    "list2 = [1,2,3,4,5,6,7,8,9]\n",
    "list3 = ['Ravi', 90,100,93,29,44, \"B\", False,5.786]\n",
    "list4 = [[1,2,3],[3,4,5,6],[2,1]]"
   ]
  },
  {
   "cell_type": "code",
   "execution_count": 2,
   "metadata": {},
   "outputs": [],
   "source": [
    "data = [\n",
    "    'Warbreaker',\n",
    "    'Brandon Sanderson',\n",
    "    'High fantasy',\n",
    "    'cosmere'\n",
    "]"
   ]
  },
  {
   "cell_type": "code",
   "execution_count": 3,
   "metadata": {},
   "outputs": [
    {
     "name": "stdout",
     "output_type": "stream",
     "text": [
      "Warbreaker\n",
      "Brandon Sanderson\n",
      "High fantasy\n",
      "cosmere\n"
     ]
    }
   ],
   "source": [
    "for item in data:\n",
    "    print(item)"
   ]
  },
  {
   "cell_type": "code",
   "execution_count": 4,
   "metadata": {},
   "outputs": [
    {
     "name": "stdout",
     "output_type": "stream",
     "text": [
      "['Warbreaker', 'Brandon Sanderson', 'High fantasy']\n"
     ]
    }
   ],
   "source": [
    "print(data[:3])"
   ]
  },
  {
   "cell_type": "code",
   "execution_count": 5,
   "metadata": {},
   "outputs": [
    {
     "name": "stdout",
     "output_type": "stream",
     "text": [
      "['cosmere', 'High fantasy', 'Brandon Sanderson', 'Warbreaker']\n"
     ]
    }
   ],
   "source": [
    "print(data[::-1])"
   ]
  },
  {
   "cell_type": "code",
   "execution_count": 6,
   "metadata": {},
   "outputs": [
    {
     "name": "stdout",
     "output_type": "stream",
     "text": [
      "['Warbreaker', 'High fantasy']\n"
     ]
    }
   ],
   "source": [
    "print(data[::2])"
   ]
  },
  {
   "cell_type": "code",
   "execution_count": 7,
   "metadata": {},
   "outputs": [
    {
     "data": {
      "text/plain": [
       "['apple',\n",
       " 'banana',\n",
       " 'cherry',\n",
       " 'Guava',\n",
       " 'kiwi',\n",
       " 'dragon fruit',\n",
       " 'berry',\n",
       " 'papaya',\n",
       " 'pomegranade']"
      ]
     },
     "execution_count": 7,
     "metadata": {},
     "output_type": "execute_result"
    }
   ],
   "source": [
    " fruits =[]\n",
    " fruits.append(\"apple\")\n",
    " fruits.append(\"banana\")\n",
    " fruits.append(\"cherry\")\n",
    " fruits.append(\"Guava\")\n",
    " fruits.append(\"kiwi\")\n",
    " fruits.append(\"dragon fruit\")\n",
    " fruits.append(\"berry\")\n",
    " fruits.append(\"papaya\")\n",
    " fruits.append(\"pomegranade\")\n",
    " fruits"
   ]
  },
  {
   "cell_type": "code",
   "execution_count": 8,
   "metadata": {},
   "outputs": [
    {
     "name": "stdout",
     "output_type": "stream",
     "text": [
      "['apple', 'orange', 'banana', 'cherry', 'Guava', 'kiwi', 'dragon fruit', 'berry', 'papaya', 'pomegranade']\n"
     ]
    }
   ],
   "source": [
    "fruits.insert(1,\"orange\")\n",
    "print(fruits)"
   ]
  },
  {
   "cell_type": "code",
   "execution_count": 9,
   "metadata": {},
   "outputs": [
    {
     "data": {
      "text/plain": [
       "['apple',\n",
       " 'orange',\n",
       " 'banana',\n",
       " 'cherry',\n",
       " 'Guava',\n",
       " 'kiwi',\n",
       " 'dragon fruit',\n",
       " 'berry',\n",
       " 'papaya',\n",
       " 'pomegranade',\n",
       " 'Almond',\n",
       " 'cashew',\n",
       " 'walnut']"
      ]
     },
     "execution_count": 9,
     "metadata": {},
     "output_type": "execute_result"
    }
   ],
   "source": [
    "dry_fruits =['Almond','cashew','walnut']\n",
    "fruits.extend(dry_fruits)\n",
    "fruits"
   ]
  },
  {
   "cell_type": "code",
   "execution_count": 10,
   "metadata": {},
   "outputs": [
    {
     "data": {
      "text/plain": [
       "['apple',\n",
       " 'orange',\n",
       " 'banana',\n",
       " 'Guava',\n",
       " 'kiwi',\n",
       " 'dragon fruit',\n",
       " 'berry',\n",
       " 'papaya',\n",
       " 'pomegranade',\n",
       " 'Almond',\n",
       " 'cashew',\n",
       " 'walnut']"
      ]
     },
     "execution_count": 10,
     "metadata": {},
     "output_type": "execute_result"
    }
   ],
   "source": [
    "fruits.remove('cherry')\n",
    "fruits"
   ]
  },
  {
   "cell_type": "code",
   "execution_count": 13,
   "metadata": {},
   "outputs": [
    {
     "name": "stdout",
     "output_type": "stream",
     "text": [
      "cashew\n"
     ]
    }
   ],
   "source": [
    "v = fruits.pop()\n",
    "print(v)"
   ]
  },
  {
   "cell_type": "code",
   "execution_count": 12,
   "metadata": {},
   "outputs": [
    {
     "name": "stdout",
     "output_type": "stream",
     "text": [
      "banana\n"
     ]
    }
   ],
   "source": [
    "v = fruits.pop(2)\n",
    "print(v)"
   ]
  },
  {
   "cell_type": "code",
   "execution_count": null,
   "metadata": {},
   "outputs": [],
   "source": []
  }
 ],
 "metadata": {
  "kernelspec": {
   "display_name": "Python 3",
   "language": "python",
   "name": "python3"
  },
  "language_info": {
   "codemirror_mode": {
    "name": "ipython",
    "version": 3
   },
   "file_extension": ".py",
   "mimetype": "text/x-python",
   "name": "python",
   "nbconvert_exporter": "python",
   "pygments_lexer": "ipython3",
   "version": "3.11.5"
  }
 },
 "nbformat": 4,
 "nbformat_minor": 2
}
