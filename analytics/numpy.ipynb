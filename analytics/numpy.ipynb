{
 "cells": [
  {
   "cell_type": "code",
   "execution_count": 15,
   "metadata": {},
   "outputs": [],
   "source": [
    "import numpy as np"
   ]
  },
  {
   "cell_type": "code",
   "execution_count": 16,
   "metadata": {},
   "outputs": [
    {
     "name": "stdout",
     "output_type": "stream",
     "text": [
      "[[1 2 3]\n",
      " [4 5 6]]\n",
      "<class 'numpy.ndarray'>\n"
     ]
    }
   ],
   "source": [
    "x2 = np.array([\n",
    "    [1,2,3],\n",
    "    [4,5,6]\n",
    "])\n",
    "print(x2)\n",
    "print(type(x2))"
   ]
  },
  {
   "cell_type": "code",
   "execution_count": 17,
   "metadata": {},
   "outputs": [
    {
     "name": "stdout",
     "output_type": "stream",
     "text": [
      "[10.  10.5 11.  11.5 12.  12.5 13.  13.5 14.  14.5 15.  15.5 16.  16.5\n",
      " 17.  17.5 18.  18.5 19.  19.5 20.  20.5 21.  21.5 22.  22.5 23.  23.5\n",
      " 24.  24.5 25.  25.5 26.  26.5 27.  27.5 28.  28.5 29.  29.5 30.  30.5\n",
      " 31.  31.5 32.  32.5 33.  33.5 34.  34.5 35.  35.5 36.  36.5 37.  37.5\n",
      " 38.  38.5 39.  39.5 40.  40.5 41.  41.5 42.  42.5 43.  43.5 44.  44.5\n",
      " 45.  45.5 46.  46.5 47.  47.5 48.  48.5 49.  49.5 50.  50.5]\n",
      "(82,)\n"
     ]
    }
   ],
   "source": [
    "a = np.arange(10,51,0.5)\n",
    "print(a)\n",
    "print(a.shape)"
   ]
  },
  {
   "cell_type": "code",
   "execution_count": 18,
   "metadata": {},
   "outputs": [
    {
     "name": "stdout",
     "output_type": "stream",
     "text": [
      "[10.         10.1010101  10.2020202  10.3030303  10.4040404  10.50505051\n",
      " 10.60606061 10.70707071 10.80808081 10.90909091 11.01010101 11.11111111\n",
      " 11.21212121 11.31313131 11.41414141 11.51515152 11.61616162 11.71717172\n",
      " 11.81818182 11.91919192 12.02020202 12.12121212 12.22222222 12.32323232\n",
      " 12.42424242 12.52525253 12.62626263 12.72727273 12.82828283 12.92929293\n",
      " 13.03030303 13.13131313 13.23232323 13.33333333 13.43434343 13.53535354\n",
      " 13.63636364 13.73737374 13.83838384 13.93939394 14.04040404 14.14141414\n",
      " 14.24242424 14.34343434 14.44444444 14.54545455 14.64646465 14.74747475\n",
      " 14.84848485 14.94949495 15.05050505 15.15151515 15.25252525 15.35353535\n",
      " 15.45454545 15.55555556 15.65656566 15.75757576 15.85858586 15.95959596\n",
      " 16.06060606 16.16161616 16.26262626 16.36363636 16.46464646 16.56565657\n",
      " 16.66666667 16.76767677 16.86868687 16.96969697 17.07070707 17.17171717\n",
      " 17.27272727 17.37373737 17.47474747 17.57575758 17.67676768 17.77777778\n",
      " 17.87878788 17.97979798 18.08080808 18.18181818 18.28282828 18.38383838\n",
      " 18.48484848 18.58585859 18.68686869 18.78787879 18.88888889 18.98989899\n",
      " 19.09090909 19.19191919 19.29292929 19.39393939 19.49494949 19.5959596\n",
      " 19.6969697  19.7979798  19.8989899  20.        ]\n"
     ]
    }
   ],
   "source": [
    "b = np.linspace(10,20,100)\n",
    "print(b)"
   ]
  },
  {
   "cell_type": "code",
   "execution_count": 23,
   "metadata": {},
   "outputs": [
    {
     "name": "stdout",
     "output_type": "stream",
     "text": [
      "[[830068 893690 499822 773796 318701]\n",
      " [118027 346442 798780 485459  37241]\n",
      " [329721 529045  40182 749731 783507]\n",
      " [632694 211158 161944  13735 840958]\n",
      " [530276 589439 848227 372541 547359]]\n"
     ]
    }
   ],
   "source": [
    "c = np.random.randint(10,1000000,(5,5))\n",
    "print(c)\n"
   ]
  },
  {
   "cell_type": "code",
   "execution_count": 24,
   "metadata": {},
   "outputs": [
    {
     "name": "stdout",
     "output_type": "stream",
     "text": [
      "[[2 4 6]\n",
      " [1 3 5]]\n",
      "size\n",
      "6\n",
      "shape\n",
      "(2, 3)\n",
      "dimension\n",
      "2\n",
      "dtype\n",
      "int32\n"
     ]
    }
   ],
   "source": [
    "print(a)\n",
    "print('size')\n",
    "print(a.size)\n",
    "print('shape')\n",
    "print(a.shape)\n",
    "print('dimension')\n",
    "print(a.ndim)\n",
    "print('dtype')\n",
    "print(a.dtype)\n"
   ]
  },
  {
   "cell_type": "code",
   "execution_count": 25,
   "metadata": {},
   "outputs": [
    {
     "name": "stdout",
     "output_type": "stream",
     "text": [
      "[[28 51 58 40 54]\n",
      " [37 91 30 95 46]\n",
      " [36 60 74 57 87]\n",
      " [63 83 27 70 28]]\n",
      "[[28 51 58 40]\n",
      " [54 37 91 30]\n",
      " [95 46 36 60]\n",
      " [74 57 87 63]\n",
      " [83 27 70 28]]\n",
      "[[28 51 58 40 54 37 91 30 95 46 36 60 74 57 87 63 83 27 70 28]]\n",
      "[[28]\n",
      " [51]\n",
      " [58]\n",
      " [40]\n",
      " [54]\n",
      " [37]\n",
      " [91]\n",
      " [30]\n",
      " [95]\n",
      " [46]\n",
      " [36]\n",
      " [60]\n",
      " [74]\n",
      " [57]\n",
      " [87]\n",
      " [63]\n",
      " [83]\n",
      " [27]\n",
      " [70]\n",
      " [28]]\n",
      "[[28 51 58 40 54 37 91 30 95 46]\n",
      " [36 60 74 57 87 63 83 27 70 28]]\n",
      "[[28 51]\n",
      " [58 40]\n",
      " [54 37]\n",
      " [91 30]\n",
      " [95 46]\n",
      " [36 60]\n",
      " [74 57]\n",
      " [87 63]\n",
      " [83 27]\n",
      " [70 28]]\n"
     ]
    }
   ],
   "source": [
    "x =np.random.randint(10,99,(4,5))\n",
    "print(x)\n",
    "print(x.reshape(5,4))\n",
    "print(x.reshape(1,20))\n",
    "print(x.reshape(20,1))\n",
    "print(x.reshape(2,10))\n",
    "print(x.reshape(10,2))"
   ]
  },
  {
   "cell_type": "code",
   "execution_count": 26,
   "metadata": {},
   "outputs": [
    {
     "name": "stdout",
     "output_type": "stream",
     "text": [
      "[28 51 58 40 54 37 91 30 95 46 36 60 74 57 87 63 83 27 70 28]\n"
     ]
    }
   ],
   "source": [
    "print(x.flatten())"
   ]
  },
  {
   "cell_type": "code",
   "execution_count": 27,
   "metadata": {},
   "outputs": [
    {
     "name": "stdout",
     "output_type": "stream",
     "text": [
      "[[68 80]\n",
      " [94 73]\n",
      " [50 28]\n",
      " [78 10]\n",
      " [77 73]]\n"
     ]
    }
   ],
   "source": [
    "y = np.random.randint(10,99,(5,2))\n",
    "print(y)"
   ]
  },
  {
   "cell_type": "code",
   "execution_count": 29,
   "metadata": {},
   "outputs": [
    {
     "data": {
      "text/plain": [
       "array([[68, 94, 50, 78, 77],\n",
       "       [80, 73, 28, 10, 73]])"
      ]
     },
     "execution_count": 29,
     "metadata": {},
     "output_type": "execute_result"
    }
   ],
   "source": [
    "y.T"
   ]
  },
  {
   "cell_type": "code",
   "execution_count": 36,
   "metadata": {},
   "outputs": [
    {
     "name": "stdout",
     "output_type": "stream",
     "text": [
      "[[68 80]\n",
      " [94 73]\n",
      " [50 28]\n",
      " [78 10]\n",
      " [77 73]]\n",
      "631\n",
      "[367 264]\n",
      "[148 167  78  88 150]\n",
      "94 10\n",
      "2 7\n"
     ]
    }
   ],
   "source": [
    "print(y)\n",
    "print(y.sum())\n",
    "print(y.sum(axis=0))\n",
    "print(y.sum(axis=1))\n",
    "\n",
    "print(y.max(),y.min())\n",
    "print(y.argmax(),y.argmin())"
   ]
  },
  {
   "cell_type": "code",
   "execution_count": 37,
   "metadata": {},
   "outputs": [
    {
     "name": "stdout",
     "output_type": "stream",
     "text": [
      "[[39 45 25 40 72 89 82 60 83 94]\n",
      " [78 23 36 46 30 87 72 10 85 38]\n",
      " [72 26 13 60 40 31 14 12 90 63]\n",
      " [29 91 13 70 13 59 75 12 19 53]\n",
      " [51 68 62 80 20 73 97 78 58 30]\n",
      " [41 46 67 83 31 69 39 11 12 98]\n",
      " [90 85 62 35 14 72 96 27 19 83]\n",
      " [76 65 25 96 41 84 66 61 51 13]\n",
      " [82 23 98 29 18 87 64 78 12 92]\n",
      " [83 24 19 64 59 38 92 94 85 42]]\n"
     ]
    }
   ],
   "source": [
    "x = np.random.randint(10,100,(10,10))\n",
    "print(x)"
   ]
  },
  {
   "cell_type": "code",
   "execution_count": 44,
   "metadata": {},
   "outputs": [
    {
     "name": "stdout",
     "output_type": "stream",
     "text": [
      "[94 38 63 53 30 98 83 13 92 42]\n",
      "[[60 83 94]\n",
      " [10 85 38]\n",
      " [12 90 63]\n",
      " [12 19 53]\n",
      " [78 58 30]\n",
      " [11 12 98]\n",
      " [27 19 83]\n",
      " [61 51 13]\n",
      " [78 12 92]\n",
      " [94 85 42]]\n"
     ]
    }
   ],
   "source": [
    "x[0,0]\n",
    "x[-1,-1]\n",
    "print(x[:,-1])\n",
    "print(x[:,-3:])"
   ]
  },
  {
   "cell_type": "code",
   "execution_count": 45,
   "metadata": {},
   "outputs": [
    {
     "name": "stdout",
     "output_type": "stream",
     "text": [
      "(array([7], dtype=int64), array([6], dtype=int64))\n"
     ]
    }
   ],
   "source": [
    "print(np.where(x == 66))"
   ]
  },
  {
   "cell_type": "code",
   "execution_count": null,
   "metadata": {},
   "outputs": [],
   "source": []
  }
 ],
 "metadata": {
  "kernelspec": {
   "display_name": "Python 3",
   "language": "python",
   "name": "python3"
  },
  "language_info": {
   "codemirror_mode": {
    "name": "ipython",
    "version": 3
   },
   "file_extension": ".py",
   "mimetype": "text/x-python",
   "name": "python",
   "nbconvert_exporter": "python",
   "pygments_lexer": "ipython3",
   "version": "3.11.5"
  }
 },
 "nbformat": 4,
 "nbformat_minor": 2
}
