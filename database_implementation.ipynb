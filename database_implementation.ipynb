{
 "cells": [
  {
   "cell_type": "code",
   "execution_count": 1,
   "metadata": {},
   "outputs": [],
   "source": [
    "from database import User, Message\n",
    "from database import get_db,save_to_db"
   ]
  },
  {
   "cell_type": "code",
   "execution_count": 2,
   "metadata": {},
   "outputs": [
    {
     "name": "stdout",
     "output_type": "stream",
     "text": [
      "<database.User object at 0x000001C7C55A8BD0> <database.User object at 0x000001C7C55AA850> <database.User object at 0x000001C7C55AA610> <database.User object at 0x000001C7C55AA8D0>\n"
     ]
    }
   ],
   "source": [
    "u1=User(name=\"alex\",email=\"alex@gmail.com\",password=\"123\")\n",
    "u2=User(name=\"ali\",email=\"ali@gmail.com\",password=\"1234\")\n",
    "u3=User(name=\"alankar\",email=\"alankar@gmail.com\",password=\"12345\")\n",
    "u4=User(name=\"arti\",email=\"arti@gmail.com\",password=\"2345\")\n",
    "print(u1,u2,u3,u4)"
   ]
  },
  {
   "cell_type": "code",
   "execution_count": null,
   "metadata": {},
   "outputs": [],
   "source": [
    "save_to_db(u1)\n",
    "save_to_db(u2)\n",
    "save_to_db(u3)\n",
    "save_to_db(u4)"
   ]
  },
  {
   "cell_type": "code",
   "execution_count": 5,
   "metadata": {},
   "outputs": [],
   "source": [
    "m1=Message(user_id=\"1\",message=\"Hola Amigo\")\n",
    "m2=Message(user_id=\"2\",message=\"Hola Amigo\")\n",
    "m3=Message(user_id=\"3\",message=\"Hola Amigo\")\n",
    "m4=Message(user_id=\"4\",message=\"Hola Amigo\")"
   ]
  },
  {
   "cell_type": "code",
   "execution_count": 6,
   "metadata": {},
   "outputs": [],
   "source": [
    "save_to_db(m1)\n",
    "save_to_db(m2)\n",
    "save_to_db(m3)\n",
    "save_to_db(m4)"
   ]
  },
  {
   "cell_type": "code",
   "execution_count": 8,
   "metadata": {},
   "outputs": [
    {
     "name": "stdout",
     "output_type": "stream",
     "text": [
      "3\n",
      "alankar\n",
      "alankar@gmail.com\n",
      "12345\n",
      "2024-04-04 13:05:07.599763\n"
     ]
    },
    {
     "name": "stderr",
     "output_type": "stream",
     "text": [
      "C:\\Users\\Acer\\AppData\\Local\\Temp\\ipykernel_19028\\3592489447.py:5: LegacyAPIWarning: The Query.get() method is considered legacy as of the 1.x series of SQLAlchemy and becomes a legacy construct in 2.0. The method is now available as Session.get() (deprecated since: 2.0) (Background on SQLAlchemy 2.0 at: https://sqlalche.me/e/b8d9)\n",
      "  u = db.query(User).get(uid)\n"
     ]
    }
   ],
   "source": [
    "db = get_db() # open the database\n",
    "# get user by id \n",
    "uid = 3\n",
    "\n",
    "u = db.query(User).get(uid)\n",
    "print(u.id)\n",
    "print(u.name)\n",
    "print(u.email)\n",
    "print(u.password)\n",
    "print(u.created_at)\n",
    "db.close()"
   ]
  },
  {
   "cell_type": "code",
   "execution_count": null,
   "metadata": {},
   "outputs": [],
   "source": []
  }
 ],
 "metadata": {
  "kernelspec": {
   "display_name": "Python 3",
   "language": "python",
   "name": "python3"
  },
  "language_info": {
   "codemirror_mode": {
    "name": "ipython",
    "version": 3
   },
   "file_extension": ".py",
   "mimetype": "text/x-python",
   "name": "python",
   "nbconvert_exporter": "python",
   "pygments_lexer": "ipython3",
   "version": "3.11.5"
  }
 },
 "nbformat": 4,
 "nbformat_minor": 2
}
