{
 "cells": [
  {
   "cell_type": "code",
   "execution_count": 1,
   "metadata": {},
   "outputs": [
    {
     "name": "stdout",
     "output_type": "stream",
     "text": [
      "Hurray!😊\n",
      "The end\n"
     ]
    }
   ],
   "source": [
    "x = int(input('give me a number:'))\n",
    "if x >=10:\n",
    "    print(\"Hurray!😊\")\n",
    "print(\"The end\")"
   ]
  },
  {
   "cell_type": "code",
   "execution_count": 3,
   "metadata": {},
   "outputs": [
    {
     "name": "stdout",
     "output_type": "stream",
     "text": [
      "Even\n"
     ]
    }
   ],
   "source": [
    "if x % 2 == 0:\n",
    "    print('Even')"
   ]
  },
  {
   "cell_type": "code",
   "execution_count": 4,
   "metadata": {},
   "outputs": [
    {
     "name": "stdout",
     "output_type": "stream",
     "text": [
      "expensive\n"
     ]
    }
   ],
   "source": [
    "price = 2300\n",
    "if price > 2000:\n",
    "    print(\"expensive\")\n",
    "else:\n",
    "    print('We can buy it')"
   ]
  },
  {
   "cell_type": "code",
   "execution_count": 12,
   "metadata": {},
   "outputs": [
    {
     "name": "stdout",
     "output_type": "stream",
     "text": [
      "587/600=97.83%\n",
      "grade: A\n"
     ]
    }
   ],
   "source": [
    "marks = int(input('enter yor marks'))\n",
    "total = 600\n",
    "pct = marks/total*100\n",
    "print(f'{marks}/{total}={pct:.2f}%')\n",
    "if pct > 90:\n",
    "     grade = 'A'\n",
    "elif pct >=75:\n",
    "     grade = 'B'\n",
    "elif pct >=60:\n",
    "     grade = 'C'\n",
    "elif pct >=40:\n",
    "     grade = 'D'\n",
    "else:\n",
    "     grade = 'F'\n",
    "print(f'grade: {grade}')"
   ]
  },
  {
   "cell_type": "code",
   "execution_count": 23,
   "metadata": {},
   "outputs": [
    {
     "name": "stdout",
     "output_type": "stream",
     "text": [
      "What is the capital of Up?\n",
      "Invalid answer\n"
     ]
    }
   ],
   "source": [
    "print(\"What is the capital of Up?\")\n",
    "ans = input ('your answer:')\n",
    "match ans:\n",
    "    case 'delhi':\n",
    "        print(\"Incorrect\")\n",
    "    case 'Lucknow':\n",
    "        print(\"Correct\")\n",
    "    case _:\n",
    "        print(\"Invalid answer\")"
   ]
  },
  {
   "cell_type": "code",
   "execution_count": 2,
   "metadata": {},
   "outputs": [],
   "source": [
    "movies = [\n",
    "    \"The Shawshank Redemption\",\n",
    "    \"The Godfather\",\n",
    "    \"Pulp Fiction\",\n",
    "    \"The Dark Knight\",\n",
    "    \"Schindler's List\",\n",
    "    \"Forrest Gump\",\n",
    "    \"The Lord of the Rings: The Fellowship of the Ring\",\n",
    "    \"Fight Club\",\n",
    "    \"Goodfellas\",\n",
    "    \"The Matrix\",\n",
    "    \"Star Wars: Episode IV - A New Hope\",\n",
    "    \"Inception\",\n",
    "    \"The Silence of the Lambs\",\n",
    "    \"The Lion King\",\n",
    "    \"Titanic\",\n",
    "    \"Saving Private Ryan\",\n",
    "    \"The Green Mile\",\n",
    "    \"Gladiator\",\n",
    "    \"The Departed\",\n",
    "    \"The Godfather: Part II\",\n",
    "    \"The Lord of the Rings: The Return of the King\",\n",
    "    \"The Prestige\",\n",
    "    \"The Avengers\",\n",
    "    \"Jurassic Park\",\n",
    "    \"The Sixth Sense\",\n",
    "    \"Avatar\",\n",
    "    \"Schindler's List\",\n",
    "    \"The Usual Suspects\",\n",
    "    \"The Terminator\",\n",
    "    \"The Truman Show\",\n",
    "    \"The Social Network\",\n",
    "    \"Se7en\",\n",
    "    \"Braveheart\",\n",
    "    \"The Princess Bride\",\n",
    "    \"Back to the Future\",\n",
    "    \"The Grand Budapest Hotel\",\n",
    "    \"Interstellar\",\n",
    "    \"The Breakfast Club\",\n",
    "    \"Raiders of the Lost Ark\",\n",
    "    \"Toy Story\",\n",
    "    \"The Shining\",\n",
    "    \"Django Unchained\",\n",
    "    \"The Godfather: Part III\",\n",
    "    \"Eternal Sunshine of the Spotless Mind\",\n",
    "    \"12 Angry Men\",\n",
    "    \"The Wizard of Oz\",\n",
    "    \"Casablanca\",\n",
    "    \"Gone with the Wind\",\n",
    "    \"City of God\",\n",
    "    \"La La Land\"\n",
    "]\n"
   ]
  },
  {
   "cell_type": "markdown",
   "metadata": {},
   "source": [
    "For item in iterable\n",
    "    statement 1\n",
    "    ...\n",
    "    statement n"
   ]
  },
  {
   "cell_type": "code",
   "execution_count": null,
   "metadata": {},
   "outputs": [],
   "source": [
    "for i in movies:\n",
    "    print(i)"
   ]
  },
  {
   "cell_type": "code",
   "execution_count": 4,
   "metadata": {},
   "outputs": [
    {
     "name": "stdout",
     "output_type": "stream",
     "text": [
      "1\n",
      "2\n",
      "3\n",
      "4\n",
      "5\n",
      "6\n",
      "7\n"
     ]
    }
   ],
   "source": [
    "for i in [1 , 2, 3, 4,5 ,6 ,7]:\n",
    "    print(i)\n"
   ]
  },
  {
   "cell_type": "code",
   "execution_count": 8,
   "metadata": {},
   "outputs": [
    {
     "name": "stdout",
     "output_type": "stream",
     "text": [
      "10\n",
      "9\n",
      "8\n",
      "7\n",
      "6\n",
      "5\n",
      "4\n",
      "3\n",
      "2\n",
      "1\n"
     ]
    }
   ],
   "source": [
    "for i in range(10,0,-1):\n",
    "    print(i)"
   ]
  },
  {
   "cell_type": "code",
   "execution_count": 10,
   "metadata": {},
   "outputs": [
    {
     "name": "stdout",
     "output_type": "stream",
     "text": [
      "2\n",
      "4\n",
      "6\n",
      "8\n",
      "10\n",
      "12\n",
      "14\n",
      "16\n",
      "18\n",
      "20\n"
     ]
    }
   ],
   "source": [
    "for i in range(2 , 21, 2):\n",
    "    print(i)"
   ]
  },
  {
   "cell_type": "code",
   "execution_count": 16,
   "metadata": {},
   "outputs": [
    {
     "name": "stdout",
     "output_type": "stream",
     "text": [
      "The Shawshank Redemption\n",
      "The Lord of the Rings: The Fellowship of the Ring\n",
      "Star Wars: Episode IV - A New Hope\n",
      "The Truman Show\n",
      "The Social Network\n",
      "Gone with the Wind\n"
     ]
    }
   ],
   "source": [
    "for name in movies:\n",
    "    if 'w' in name:\n",
    "        print(name)"
   ]
  },
  {
   "cell_type": "code",
   "execution_count": 18,
   "metadata": {},
   "outputs": [
    {
     "name": "stdout",
     "output_type": "stream",
     "text": [
      "55\n"
     ]
    }
   ],
   "source": [
    "x = [1,2,3,4,5,6,7,8,9,10]\n",
    "total = 0\n",
    "for i in x:\n",
    "    total += i\n",
    "print(total)"
   ]
  },
  {
   "cell_type": "code",
   "execution_count": 29,
   "metadata": {},
   "outputs": [
    {
     "name": "stdout",
     "output_type": "stream",
     "text": [
      "911 22795927029008477579211156939783221243269127507607587936236309327513980703131146492017728861217150304875841406542395200975801703084068910365543721976033206429005881815456683786145920464024159170213721127703312553673120475783443216014382448722437290361223491903331648415015147691055521347377375736799176421631103019274580336238910433186713848401269260449885147733314698915491504761387825413425044557138010886197553549428944177632442853289617183958513968811800207380021466243398856014105178135606543281895069669460134055881958378646548140295834311113031559781654860940438144744181905645111273232074366100910579642991609613998566436254541265735350878979973683696811719132771444447750309362425080538828640690709444529626290455885286353905030299098361467515395763654426563631017385672980946049384048676091583915436051417978861701546853200283633715147868277282138046353903040657761756181609917085378798533205101211537002803965193382838803821141576731072340132665474316424000184653112743530329660310553203111773920501170964222466085575233147660377311904774031378493422914118112957732475183176666522441540637471051909408377756628854069118373239426659797268456499582612056791770722454286396895404143785291399310131243466033322399479115447036928501697114800980504090958483068758973382145467526112531563229033844708311763069135663290265085439432257713418137044644893992855284434593712824095824382383139769271563514313352255289924736091114027078487703886965849259969288061255636934439748991256089805282009609559306168525466576497604985572401580426739218071434393335582051038418012192695236314283389260267004273609789827050348915790161085179885167097678342200795253980716026558765255299641122903087742696764902195791337100104885972724329926456320265889720416605438194141826352378783347933300935889664779953297044158615769428696669973369002151134341157108758613278726282335325030657793723612255464602463140445899854148468052962985766357840414391780975904300697514248552357291006479550213313127978549539171903115086092257820650105568026913649161515175007894662554993652136159363665310473256960000000000000000000000000000000000000000000000000000000000000000000000000000000000000000000000000000000000000000000000000000000000000000000000000000000000000000000000000000000000000000000000000000000000000000000000000000000000\n"
     ]
    }
   ],
   "source": [
    "n = 911\n",
    "fact = 1\n",
    "for i in range(2,n+1):\n",
    "    fact *= i\n",
    "print(i,fact)\n"
   ]
  },
  {
   "cell_type": "code",
   "execution_count": 31,
   "metadata": {},
   "outputs": [
    {
     "name": "stdout",
     "output_type": "stream",
     "text": [
      "1\n",
      "2\n",
      "3\n",
      "4\n",
      "5\n",
      "6\n",
      "7\n",
      "8\n",
      "9\n"
     ]
    }
   ],
   "source": [
    "a =1 \n",
    "while a < 10:\n",
    "    print(a)\n",
    "    a +=1"
   ]
  },
  {
   "cell_type": "code",
   "execution_count": 34,
   "metadata": {},
   "outputs": [
    {
     "name": "stdout",
     "output_type": "stream",
     "text": [
      "very good\n"
     ]
    }
   ],
   "source": [
    "while True:\n",
    "    x = input('Enter a number:')\n",
    "    if x.isnumeric():\n",
    "        print('very good')\n",
    "        break\n",
    "    else:\n",
    "        print('invalid input')\n",
    "        "
   ]
  },
  {
   "cell_type": "code",
   "execution_count": null,
   "metadata": {},
   "outputs": [],
   "source": []
  }
 ],
 "metadata": {
  "kernelspec": {
   "display_name": "Python 3",
   "language": "python",
   "name": "python3"
  },
  "language_info": {
   "codemirror_mode": {
    "name": "ipython",
    "version": 3
   },
   "file_extension": ".py",
   "mimetype": "text/x-python",
   "name": "python",
   "nbconvert_exporter": "python",
   "pygments_lexer": "ipython3",
   "version": "3.11.5"
  }
 },
 "nbformat": 4,
 "nbformat_minor": 2
}
