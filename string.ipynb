{
 "cells": [
  {
   "cell_type": "code",
   "execution_count": 3,
   "metadata": {},
   "outputs": [
    {
     "name": "stdout",
     "output_type": "stream",
     "text": [
      "original: Data science\n",
      "upper: DATA SCIENCE\n",
      "lower: data science\n",
      "capitalize: Data science\n"
     ]
    }
   ],
   "source": [
    "word = 'Data science'\n",
    "word2=word.upper()\n",
    "word3=word.lower()\n",
    "word4=word.capitalize()\n",
    "print(f'original: {word}')\n",
    "print(f'upper: {word2}') \n",
    "print(f'lower: {word3}')\n",
    "print(f'capitalize: {word4}')\n",
    "\n"
   ]
  },
  {
   "cell_type": "code",
   "execution_count": null,
   "metadata": {},
   "outputs": [],
   "source": [
    "sentence = \"data science is the science of data\"\n",
    "print(sentence.)"
   ]
  },
  {
   "cell_type": "code",
   "execution_count": 1,
   "metadata": {},
   "outputs": [],
   "source": [
    "story = 'once there was king named Arthur, who was a great king'\n",
    "print(strong.count('King'))\n",
    "print(story.count('a'))\n",
    "print(story.count('queen'))"
   ]
  },
  {
   "cell_type": "code",
   "execution_count": 3,
   "metadata": {},
   "outputs": [
    {
     "name": "stdout",
     "output_type": "stream",
     "text": [
      "['Johny, Johny.', 'Yes, Papa?', 'Eating sugar?', 'No, Papa.', 'Telling lies?', 'No, Papa.', 'Open your mouth.', 'Ha-ha-ha!']\n",
      "['Johny, Johny.\\nYes, ', '?\\nEating sugar?\\nNo, ', '.\\nTelling lies?\\nNo, ', '.\\nOpen your mouth.\\nHa-ha-ha!']\n"
     ]
    }
   ],
   "source": [
    "poem = '''Johny, Johny.\n",
    "Yes, Papa?\n",
    "Eating sugar?\n",
    "No, Papa.\n",
    "Telling lies?\n",
    "No, Papa.\n",
    "Open your mouth.\n",
    "Ha-ha-ha!'''\n",
    "print(poem.splitlines())\n",
    "print(poem.split('Papa'))"
   ]
  },
  {
   "cell_type": "code",
   "execution_count": null,
   "metadata": {},
   "outputs": [],
   "source": [
    "pathlist = ['c:','users','admin',]"
   ]
  },
  {
   "cell_type": "code",
   "execution_count": null,
   "metadata": {},
   "outputs": [],
   "source": []
  }
 ],
 "metadata": {
  "kernelspec": {
   "display_name": "Python 3",
   "language": "python",
   "name": "python3"
  },
  "language_info": {
   "codemirror_mode": {
    "name": "ipython",
    "version": 3
   },
   "file_extension": ".py",
   "mimetype": "text/x-python",
   "name": "python",
   "nbconvert_exporter": "python",
   "pygments_lexer": "ipython3",
   "version": "3.11.5"
  }
 },
 "nbformat": 4,
 "nbformat_minor": 2
}
